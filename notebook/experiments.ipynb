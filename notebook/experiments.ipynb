{
 "cells": [
  {
   "cell_type": "code",
   "execution_count": 1,
   "id": "e8833be1",
   "metadata": {},
   "outputs": [],
   "source": [
    "\n",
    "import sys"
   ]
  },
  {
   "cell_type": "code",
   "execution_count": 2,
   "id": "0b51a7ff",
   "metadata": {},
   "outputs": [],
   "source": [
    "class TradingBotException(Exception):\n",
    "    def __init__(self):\n",
    "        print(\"this message from init\")\n",
    "        \n",
    "    def __str__(self):\n",
    "        print(\"this message from str\")\n",
    "        return \"\"\n",
    "        \n",
    "    def __repr__(self):\n",
    "        print(\"this message from repr\")\n",
    "        return \"\"\n"
   ]
  },
  {
   "cell_type": "code",
   "execution_count": 3,
   "id": "80a5fcc7",
   "metadata": {},
   "outputs": [
    {
     "name": "stdout",
     "output_type": "stream",
     "text": [
      "this message from init\n"
     ]
    }
   ],
   "source": [
    "obj=TradingBotException()"
   ]
  },
  {
   "cell_type": "code",
   "execution_count": 4,
   "id": "e8b4ee0d",
   "metadata": {},
   "outputs": [
    {
     "name": "stdout",
     "output_type": "stream",
     "text": [
      "this message from str\n",
      "\n"
     ]
    }
   ],
   "source": [
    "print(obj)"
   ]
  },
  {
   "cell_type": "code",
   "execution_count": 5,
   "id": "fffcc845",
   "metadata": {},
   "outputs": [
    {
     "name": "stdout",
     "output_type": "stream",
     "text": [
      "this message from repr\n"
     ]
    },
    {
     "data": {
      "text/plain": []
     },
     "execution_count": 5,
     "metadata": {},
     "output_type": "execute_result"
    }
   ],
   "source": [
    "obj"
   ]
  },
  {
   "cell_type": "code",
   "execution_count": 6,
   "id": "0c34d25d",
   "metadata": {},
   "outputs": [],
   "source": [
    "class TradingBotException(Exception):\n",
    "    def __init__(self,error_message,error_details_using_sys:sys):\n",
    "        \n",
    "        self.error_message = error_message\n",
    "        _,_,exc_tb = error_details_using_sys.exc_info()\n",
    "        \n",
    "        self.lineno=exc_tb.tb_lineno\n",
    "        self.file_name=exc_tb.tb_frame.f_code.co_filename \n",
    "    \n",
    "    def __str__(self):\n",
    "        return \"Error occured in python script name [{0}] line number [{1}] error message [{2}]\".format(\n",
    "        self.file_name, self.lineno, str(self.error_message))"
   ]
  },
  {
   "cell_type": "code",
   "execution_count": 7,
   "id": "9b22617e",
   "metadata": {},
   "outputs": [],
   "source": [
    "def test(message):\n",
    "    print(\"add\"+message)\n",
    "    print(sys.exc_info())\n",
    "    #print(sys.exc_info())"
   ]
  },
  {
   "cell_type": "code",
   "execution_count": 8,
   "id": "b36cba66",
   "metadata": {},
   "outputs": [
    {
     "name": "stdout",
     "output_type": "stream",
     "text": [
      "addhi hi hi\n",
      "(None, None, None)\n"
     ]
    }
   ],
   "source": [
    "test(\"hi hi hi\")"
   ]
  },
  {
   "cell_type": "code",
   "execution_count": 9,
   "id": "e75f8b32",
   "metadata": {},
   "outputs": [
    {
     "ename": "TradingBotException",
     "evalue": "Error occured in python script name [/var/folders/42/94lj0cp519ncj7_m79j3_h3m0000gn/T/ipykernel_46391/1364031980.py] line number [2] error message [can only concatenate str (not \"int\") to str]",
     "output_type": "error",
     "traceback": [
      "\u001b[0;31m---------------------------------------------------------------------------\u001b[0m",
      "\u001b[0;31mTypeError\u001b[0m                                 Traceback (most recent call last)",
      "Cell \u001b[0;32mIn[9], line 2\u001b[0m\n\u001b[1;32m      1\u001b[0m \u001b[38;5;28;01mtry\u001b[39;00m:\n\u001b[0;32m----> 2\u001b[0m     \u001b[43mtest\u001b[49m\u001b[43m(\u001b[49m\u001b[38;5;241;43m2\u001b[39;49m\u001b[43m)\u001b[49m\n\u001b[1;32m      3\u001b[0m \u001b[38;5;28;01mexcept\u001b[39;00m \u001b[38;5;167;01mException\u001b[39;00m \u001b[38;5;28;01mas\u001b[39;00m e:\n",
      "Cell \u001b[0;32mIn[7], line 2\u001b[0m, in \u001b[0;36mtest\u001b[0;34m(message)\u001b[0m\n\u001b[1;32m      1\u001b[0m \u001b[38;5;28;01mdef\u001b[39;00m\u001b[38;5;250m \u001b[39m\u001b[38;5;21mtest\u001b[39m(message):\n\u001b[0;32m----> 2\u001b[0m     \u001b[38;5;28mprint\u001b[39m(\u001b[38;5;124;43m\"\u001b[39;49m\u001b[38;5;124;43madd\u001b[39;49m\u001b[38;5;124;43m\"\u001b[39;49m\u001b[38;5;241;43m+\u001b[39;49m\u001b[43mmessage\u001b[49m)\n\u001b[1;32m      3\u001b[0m     \u001b[38;5;28mprint\u001b[39m(sys\u001b[38;5;241m.\u001b[39mexc_info())\n",
      "\u001b[0;31mTypeError\u001b[0m: can only concatenate str (not \"int\") to str",
      "\nDuring handling of the above exception, another exception occurred:\n",
      "\u001b[0;31mTradingBotException\u001b[0m                       Traceback (most recent call last)",
      "Cell \u001b[0;32mIn[9], line 4\u001b[0m\n\u001b[1;32m      2\u001b[0m     test(\u001b[38;5;241m2\u001b[39m)\n\u001b[1;32m      3\u001b[0m \u001b[38;5;28;01mexcept\u001b[39;00m \u001b[38;5;167;01mException\u001b[39;00m \u001b[38;5;28;01mas\u001b[39;00m e:\n\u001b[0;32m----> 4\u001b[0m     \u001b[38;5;28;01mraise\u001b[39;00m TradingBotException(e,sys)\n",
      "\u001b[0;31mTradingBotException\u001b[0m: Error occured in python script name [/var/folders/42/94lj0cp519ncj7_m79j3_h3m0000gn/T/ipykernel_46391/1364031980.py] line number [2] error message [can only concatenate str (not \"int\") to str]"
     ]
    }
   ],
   "source": [
    "\n",
    "try:\n",
    "    test(2)\n",
    "except Exception as e:\n",
    "    raise TradingBotException(e,sys)"
   ]
  },
  {
   "cell_type": "code",
   "execution_count": 10,
   "id": "db0ba49f",
   "metadata": {},
   "outputs": [
    {
     "ename": "TradingBotException",
     "evalue": "Error occured in python script name [/var/folders/42/94lj0cp519ncj7_m79j3_h3m0000gn/T/ipykernel_46391/3293007383.py] line number [2] error message [division by zero]",
     "output_type": "error",
     "traceback": [
      "\u001b[0;31m---------------------------------------------------------------------------\u001b[0m",
      "\u001b[0;31mZeroDivisionError\u001b[0m                         Traceback (most recent call last)",
      "Cell \u001b[0;32mIn[10], line 2\u001b[0m\n\u001b[1;32m      1\u001b[0m \u001b[38;5;28;01mtry\u001b[39;00m:\n\u001b[0;32m----> 2\u001b[0m     a\u001b[38;5;241m=\u001b[39m\u001b[38;5;241;43m1\u001b[39;49m\u001b[38;5;241;43m/\u001b[39;49m\u001b[38;5;241;43m0\u001b[39;49m\n\u001b[1;32m      3\u001b[0m     \u001b[38;5;28mprint\u001b[39m(\u001b[38;5;124m\"\u001b[39m\u001b[38;5;124mThis will not be printed\u001b[39m\u001b[38;5;124m\"\u001b[39m,a)\n",
      "\u001b[0;31mZeroDivisionError\u001b[0m: division by zero",
      "\nDuring handling of the above exception, another exception occurred:\n",
      "\u001b[0;31mTradingBotException\u001b[0m                       Traceback (most recent call last)",
      "Cell \u001b[0;32mIn[10], line 5\u001b[0m\n\u001b[1;32m      3\u001b[0m     \u001b[38;5;28mprint\u001b[39m(\u001b[38;5;124m\"\u001b[39m\u001b[38;5;124mThis will not be printed\u001b[39m\u001b[38;5;124m\"\u001b[39m,a)\n\u001b[1;32m      4\u001b[0m \u001b[38;5;28;01mexcept\u001b[39;00m \u001b[38;5;167;01mException\u001b[39;00m \u001b[38;5;28;01mas\u001b[39;00m e:\n\u001b[0;32m----> 5\u001b[0m     \u001b[38;5;28;01mraise\u001b[39;00m TradingBotException(e,sys)\n",
      "\u001b[0;31mTradingBotException\u001b[0m: Error occured in python script name [/var/folders/42/94lj0cp519ncj7_m79j3_h3m0000gn/T/ipykernel_46391/3293007383.py] line number [2] error message [division by zero]"
     ]
    }
   ],
   "source": [
    "try:\n",
    "    a=1/0\n",
    "    print(\"This will not be printed\",a)\n",
    "except Exception as e:\n",
    "    raise TradingBotException(e,sys)\n"
   ]
  },
  {
   "cell_type": "code",
   "execution_count": 11,
   "id": "90fe6e4f",
   "metadata": {},
   "outputs": [],
   "source": [
    "\n",
    "import logging\n",
    "import os\n",
    "from datetime import datetime"
   ]
  },
  {
   "cell_type": "code",
   "execution_count": 12,
   "id": "0541a998",
   "metadata": {},
   "outputs": [],
   "source": [
    "LOG_FILE = f\"{datetime.now().strftime('%m_%d_%Y_%H_%M_%S')}.log\""
   ]
  },
  {
   "cell_type": "code",
   "execution_count": 13,
   "id": "de986df7",
   "metadata": {},
   "outputs": [],
   "source": [
    "logs_path = os.path.join(os.getcwd(), \"logs\")"
   ]
  },
  {
   "cell_type": "code",
   "execution_count": 14,
   "id": "10997d14",
   "metadata": {},
   "outputs": [],
   "source": [
    "\n",
    "os.makedirs(logs_path, exist_ok=True)"
   ]
  },
  {
   "cell_type": "code",
   "execution_count": 15,
   "id": "d80eb630",
   "metadata": {},
   "outputs": [],
   "source": [
    "LOG_FILE_PATH = os.path.join(logs_path, LOG_FILE)"
   ]
  },
  {
   "cell_type": "code",
   "execution_count": 16,
   "id": "5ac35728",
   "metadata": {},
   "outputs": [],
   "source": [
    "\n",
    "logger=logging.getLogger(\"my_agentic_app\")"
   ]
  },
  {
   "cell_type": "code",
   "execution_count": 17,
   "id": "8bdff192",
   "metadata": {},
   "outputs": [],
   "source": [
    "\n",
    "logging.basicConfig(\n",
    "    filename=LOG_FILE_PATH,\n",
    "    format=\"[ %(asctime)s ] %(lineno)d %(name)s - %(levelname)s - %(message)s\",\n",
    "    level=logging.INFO,\n",
    ")"
   ]
  },
  {
   "cell_type": "code",
   "execution_count": 18,
   "id": "12d5dee8",
   "metadata": {},
   "outputs": [],
   "source": [
    "logger.info(\"this is my testing message\")"
   ]
  },
  {
   "cell_type": "code",
   "execution_count": null,
   "id": "2fc30e07",
   "metadata": {},
   "outputs": [],
   "source": []
  }
 ],
 "metadata": {
  "kernelspec": {
   "display_name": "ai_diary",
   "language": "python",
   "name": "python3"
  },
  "language_info": {
   "codemirror_mode": {
    "name": "ipython",
    "version": 3
   },
   "file_extension": ".py",
   "mimetype": "text/x-python",
   "name": "python",
   "nbconvert_exporter": "python",
   "pygments_lexer": "ipython3",
   "version": "3.10.16"
  }
 },
 "nbformat": 4,
 "nbformat_minor": 5
}
